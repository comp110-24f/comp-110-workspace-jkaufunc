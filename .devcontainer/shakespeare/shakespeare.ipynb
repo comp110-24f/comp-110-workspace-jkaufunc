{
 "cells": [
  {
   "cell_type": "markdown",
   "metadata": {},
   "source": [
    "# Quantifying Shakespeare\n",
    "\n",
    "What are the frequency of letters Shakespeare used in their complete works?"
   ]
  },
  {
   "cell_type": "code",
   "execution_count": 9,
   "metadata": {},
   "outputs": [
    {
     "data": {
      "text/plain": [
       "[]"
      ]
     },
     "execution_count": 9,
     "metadata": {},
     "output_type": "execute_result"
    }
   ],
   "source": [
    "lines: list[str] = []\n",
    "file_handle = open(\"shakespeare.txt\", \"r\", encoding=\"utf8\")\n",
    "lines = file_handle.readlines()\n",
    "file_handle.close()\n",
    "\n",
    "lines"
   ]
  },
  {
   "cell_type": "markdown",
   "metadata": {},
   "source": [
    "Now we can count the frequencies of every character in a complete collection of Shakespeare's works."
   ]
  },
  {
   "cell_type": "code",
   "execution_count": 13,
   "metadata": {},
   "outputs": [
    {
     "data": {
      "text/plain": [
       "{}"
      ]
     },
     "execution_count": 13,
     "metadata": {},
     "output_type": "execute_result"
    }
   ],
   "source": [
    "frequencies: dict[str, int] = {}\n",
    "\n",
    "for line in lines:\n",
    "    for char in line:\n",
    "        if char in line:\n",
    "            frequencies[char] += 1\n",
    "        else: frequencies[char] = 1\n",
    "\n",
    "frequencies"
   ]
  },
  {
   "cell_type": "code",
   "execution_count": 14,
   "metadata": {},
   "outputs": [
    {
     "data": {
      "text/plain": [
       "[]"
      ]
     },
     "execution_count": 14,
     "metadata": {},
     "output_type": "execute_result"
    }
   ],
   "source": [
    "clean_lines: list[str] = []\n",
    "\n",
    "for line in lines:\n",
    "    clean_line: str = \"\"\n",
    "    for char in line:\n",
    "        if char.isalpha():\n",
    "            clean_line += char\n",
    "    clean_line = clean_line.lower()\n",
    "    clean_lines.append(clean_line)\n",
    "\n",
    "clean_lines"
   ]
  },
  {
   "cell_type": "code",
   "execution_count": null,
   "metadata": {},
   "outputs": [],
   "source": [
    "total_alpha_chars: int = 0\n",
    "\n",
    "for key in frequencies:\n",
    "    total_alpha_chars += frequencies[key]\n",
    "\n",
    "print(total_alpha_chars)\n"
   ]
  }
 ],
 "metadata": {
  "kernelspec": {
   "display_name": "Python 3",
   "language": "python",
   "name": "python3"
  },
  "language_info": {
   "codemirror_mode": {
    "name": "ipython",
    "version": 3
   },
   "file_extension": ".py",
   "mimetype": "text/x-python",
   "name": "python",
   "nbconvert_exporter": "python",
   "pygments_lexer": "ipython3",
   "version": "3.12.4"
  }
 },
 "nbformat": 4,
 "nbformat_minor": 2
}
